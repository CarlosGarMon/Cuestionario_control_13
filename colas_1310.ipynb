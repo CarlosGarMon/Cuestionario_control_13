{
  "nbformat": 4,
  "nbformat_minor": 0,
  "metadata": {
    "colab": {
      "name": "colas_1310.ipynb",
      "provenance": [],
      "authorship_tag": "ABX9TyON+BuGt5qRt/b/GRZzpFHw",
      "include_colab_link": true
    },
    "kernelspec": {
      "name": "python3",
      "display_name": "Python 3"
    },
    "language_info": {
      "name": "python"
    }
  },
  "cells": [
    {
      "cell_type": "markdown",
      "metadata": {
        "id": "view-in-github",
        "colab_type": "text"
      },
      "source": [
        "<a href=\"https://colab.research.google.com/github/CarlosGarMon/Cuestionario_control_13/blob/main/colas_1310.ipynb\" target=\"_parent\"><img src=\"https://colab.research.google.com/assets/colab-badge.svg\" alt=\"Open In Colab\"/></a>"
      ]
    },
    {
      "cell_type": "code",
      "metadata": {
        "id": "q-SFajkUJZST"
      },
      "source": [
        "class QueueADT:\n",
        "    def __init__( self ):\n",
        "        self.data = []\n",
        "    \n",
        "    def is_empty( self ):\n",
        "        return len( self.data ) == 0\n",
        "    \n",
        "    def length( self ):\n",
        "        return len( self.data )\n",
        "    \n",
        "    def enqueue( self, value ):\n",
        "        self.data.append( value )\n",
        "    \n",
        "    def dequeue( self ):\n",
        "        return self.data.pop(0)\n",
        "    \n",
        "    def to_string( self ):\n",
        "        for elem in self.data:\n",
        "            print(f\"|{elem}| <-- \", end= \"\")\n",
        "        print(\"\")"
      ],
      "execution_count": 15,
      "outputs": []
    },
    {
      "cell_type": "code",
      "metadata": {
        "colab": {
          "base_uri": "https://localhost:8080/"
        },
        "id": "4qci0jCGNZe2",
        "outputId": "6bb4aa38-af26-42ca-b43d-00b85e557c19"
      },
      "source": [
        "cola = QueueADT()\n",
        "print(\"Está vacío? R=\", cola.is_empty())\n",
        "print(\"Numero de elementos: \", cola.length())\n",
        "cola.enqueue(10)\n",
        "cola.enqueue(20)\n",
        "cola.enqueue(30)\n",
        "print(\"\\nEstá vacío? R=\", cola.is_empty())\n",
        "print(\"Numero de elementos: \", cola.length())\n",
        "cola.enqueue(40)\n",
        "cola.enqueue(50)\n",
        "cola.enqueue(60)\n",
        "cola.to_string()\n",
        "\n",
        "siguiente = cola.dequeue()\n",
        "print(\"Atendiendo a: \", siguiente)\n",
        "cola.to_string()"
      ],
      "execution_count": 17,
      "outputs": [
        {
          "output_type": "stream",
          "name": "stdout",
          "text": [
            "Está vacío? R= True\n",
            "Numero de elementos:  0\n",
            "\n",
            "Está vacío? R= False\n",
            "Numero de elementos:  3\n",
            "|10| <-- |20| <-- |30| <-- |40| <-- |50| <-- |60| <-- \n",
            "Atendiendo a:  10\n",
            "|20| <-- |30| <-- |40| <-- |50| <-- |60| <-- \n"
          ]
        }
      ]
    },
    {
      "cell_type": "markdown",
      "metadata": {
        "id": "1e5oPw4fQnmF"
      },
      "source": [
        "#Variantes del ADT Cola\n",
        "1. Circulares \n",
        "2. De Prioridad\n",
        "    1. Acotada\n",
        "    2. NO acotada "
      ]
    }
  ]
}